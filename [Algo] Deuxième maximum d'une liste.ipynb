{
 "cells": [
  {
   "cell_type": "code",
   "execution_count": 11,
   "metadata": {},
   "outputs": [],
   "source": [
    "import math"
   ]
  },
  {
   "cell_type": "code",
   "execution_count": 14,
   "metadata": {},
   "outputs": [],
   "source": [
    "ma_liste = [-50, -300, 8, 2, 3654, 1050]"
   ]
  },
  {
   "cell_type": "markdown",
   "metadata": {},
   "source": [
    "### Exercice algorithmique simple\n",
    "\n",
    "Construire une fonction permettant de calculer le deuxième élément le plus grand d'une liste. La fonction prendra en entrée une liste et retournera le deuxième élément le plus grand de la liste. </br>\n",
    "<b> A noter : </b> Les éléments de la liste peuvent être négatifs ou positifs"
   ]
  },
  {
   "cell_type": "code",
   "execution_count": 12,
   "metadata": {},
   "outputs": [],
   "source": [
    "def second_max_element(array):\n",
    "    '''\n",
    "    Permet dans une liste de trouver le deuxième élément le plus grand\n",
    "    '''\n",
    "    if type(array) != list or len(array)<2:\n",
    "        print(\"La liste indiqué en paramètre ne permet pas de trouver le deuxième élément le plus grand\")\n",
    "        return\n",
    "    max1 = -math.inf\n",
    "    max2 = -math.inf\n",
    "    for elem in array:\n",
    "        if elem > max1:\n",
    "            max2 = max1\n",
    "            max1 = elem\n",
    "        if elem < max1 and elem > max2:\n",
    "            max2 = elem\n",
    "    return max2"
   ]
  },
  {
   "cell_type": "code",
   "execution_count": 13,
   "metadata": {},
   "outputs": [
    {
     "data": {
      "text/plain": [
       "1050"
      ]
     },
     "execution_count": 13,
     "metadata": {},
     "output_type": "execute_result"
    }
   ],
   "source": [
    "second_max_element(ma_liste)"
   ]
  }
 ],
 "metadata": {
  "kernelspec": {
   "display_name": "Python 3 (ipykernel)",
   "language": "python",
   "name": "python3"
  },
  "language_info": {
   "codemirror_mode": {
    "name": "ipython",
    "version": 3
   },
   "file_extension": ".py",
   "mimetype": "text/x-python",
   "name": "python",
   "nbconvert_exporter": "python",
   "pygments_lexer": "ipython3",
   "version": "3.8.10"
  }
 },
 "nbformat": 4,
 "nbformat_minor": 4
}
